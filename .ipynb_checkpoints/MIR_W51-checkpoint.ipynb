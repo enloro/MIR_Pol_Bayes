{
 "metadata": {
  "name": "",
  "signature": "sha256:a62a69626cfeb4c217416b1c18bb3f74f12e08fb1166aab92c3d6f0a195366b0"
 },
 "nbformat": 3,
 "nbformat_minor": 0,
 "worksheets": [
  {
   "cells": [
    {
     "cell_type": "heading",
     "level": 1,
     "metadata": {},
     "source": [
      "Dichroic polarization at mid-infrared wavelengths: a Bayesian approach "
     ]
    },
    {
     "cell_type": "markdown",
     "metadata": {},
     "source": [
      "The aim of this code is to develop a Bayesian approach to infere the absorptive and emissive componets of a given observations. In this case the observations are those of W51 IRS extracted from Smith et al. (2000, MNRAS, 312, 327), fig. 2"
     ]
    },
    {
     "cell_type": "code",
     "collapsed": false,
     "input": [
      "%matplotlib inline\n",
      "import os\n",
      "from pylab import *\n",
      "from pymc3 import  *\n",
      "from pymc3.stats import *\n",
      "import numpy as np\n",
      "import matplotlib.pyplot as plt\n",
      "from readcol import readcol\n",
      "import patsy\n",
      "import theano\n",
      "from pandas import *\n",
      "from statsmodels.formula.api import glm as glm_sm\n",
      "import statsmodels.api as s\n",
      "import numpy as np\n",
      "from scipy import stats"
     ],
     "language": "python",
     "metadata": {},
     "outputs": [],
     "prompt_number": 2
    },
    {
     "cell_type": "heading",
     "level": 5,
     "metadata": {},
     "source": [
      "Reading BN data to model the absorptive and emissive components"
     ]
    },
    {
     "cell_type": "markdown",
     "metadata": {},
     "source": [
      "The absorptive and emissive components were extracted from fig. 1 in Smith et al. (2000, MNRAS, 312, 327)"
     ]
    },
    {
     "cell_type": "code",
     "collapsed": false,
     "input": [
      "#At this stage of the modeling the appropiate absorptive/emissive polarization components can be introduced.\n",
      "#The user can introduce their own customized dichroic compoents based on a specific dust composition,\n",
      "#or if silicate-like grains are used then the user can simply use the default dichroic components\n",
      "#supplied by this model.\n",
      "\n",
      "#In the case the user want to use diferent extinction curve,\n",
      "#the extinction curve of Rv=5.5 by Draine and collaborators can be used, extracted from\n",
      "#ftp://ftp.astro.princeton.edu/draine/dust/mix/kext_albedo_WD_MW_5.5A_30_D03.all\n",
      "#l_ext,tau_ext=readcol(\"ext_Rv55.dat\",twod=False)\n",
      "\n",
      "#Then the emissive and absorptive componets can be written as:\n",
      "#fe_bn = fa_bn/tau_ext\n",
      "#fe_bn = fe_bn/max(fe_bn)\n",
      "\n",
      "\n",
      "### Observations\n",
      "#BN absorptive component use for modeling from Smith et al. (2000, MNRAS, 312, 327) & Aitken+04 (MNRAS, 348, 279) \n",
      "l_bn,fa_bn=readcol(\"BN_fa.dat\",twod=False)\n",
      "l_bn,fe_bn=readcol(\"BN_fe.dat\",twod=False)\n",
      "\n",
      "\n",
      "\n",
      "###############\n",
      "### Figures ###\n",
      "###############\n",
      "font_size=6.0\n",
      "label_size=6.\n",
      "lw = 3.\n",
      "fig,(ax1) = plt.subplots(1,1,figsize=(7,4),dpi=120)\n",
      "\n",
      "#Model\n",
      "ax1.plot(l_bn,fa_bn,color='black',lw=lw,label='Absorptive component')\n",
      "ax1.plot(l_bn,fe_bn,color='black',lw=lw,linestyle='-.',label='Emissive component')\n",
      "\n",
      "ax1.set_xlabel('Wavelength ($\\mu$m)')\n",
      "ax1.set_ylabel('Normalized polarization')\n",
      "ax1.set_ylim([0,1])\n",
      "ax1.set_xlim([7,13])\n",
      "ax1.legend(loc='best')\n",
      "\n",
      "## Save Fig. to PDF and display\n",
      "plt.savefig('model.pdf')\n",
      "#os.system('open model.pdf')"
     ],
     "language": "python",
     "metadata": {},
     "outputs": [
      {
       "output_type": "stream",
       "stream": "stdout",
       "text": [
        "Removing 1 rows that don't match most common length 2.                       \n",
        "25 rows read into array.\n"
       ]
      },
      {
       "metadata": {},
       "output_type": "display_data",
       "png": "[encoded data removed]",
       "text": [
        "<matplotlib.figure.Figure at 0x105cb6f50>"
       ]
      }
     ],
     "prompt_number": 3
    },
    {
     "cell_type": "heading",
     "level": 5,
     "metadata": {},
     "source": [
      "Reading the W51 IRS spectroscopic observations"
     ]
    },
    {
     "cell_type": "markdown",
     "metadata": {},
     "source": [
      "Data from Aitken et al. (2000, MNRAS, 348, 279). This data is used to compare with the results from their paper."
     ]
    },
    {
     "cell_type": "code",
     "collapsed": false,
     "input": [
      "### Observations\n",
      "\n",
      "#W51 IRS observations\n",
      "l_w51,q_w51=readcol(\"W51_q.dat\",twod=False)\n",
      "l_w51,qerr_w51=readcol(\"W51_qerr.dat\",twod=False)\n",
      "l_w51,u_w51=readcol(\"W51_u.dat\",twod=False)\n",
      "l_w51,uerr_w51=readcol(\"W51_uerr.dat\",twod=False)\n",
      "\n",
      "#Transform input data in \n",
      "qerr_w51 = qerr_w51 - q_w51\n",
      "uerr_w51 = uerr_w51 - u_w51\n",
      "\n",
      "q_obs = q_w51 \n",
      "u_obs = u_w51\n",
      "qerr_obs = qerr_w51 \n",
      "uerr_obs = uerr_w51\n",
      "l_obs = l_w51\n",
      "\n",
      "p_obs   = 100.*np.sqrt(q_obs*q_obs + u_obs*u_obs)\n",
      "perr_obs = 100.*np.sqrt((q_obs+qerr_obs)*(q_obs+qerr_obs) + (u_obs+uerr_obs)*(u_obs+uerr_obs)) - p_obs \n",
      "\n",
      "pa_obs   = 0.5*np.arctan(u_obs/q_obs)*180./3.1415 \n",
      "pa_err_obs   = 0.5*np.arctan((u_obs+uerr_obs)/(q_obs+qerr_obs))*180./3.1415 - pa_obs\n",
      "####\n",
      "\n",
      "###############\n",
      "### Figures ###\n",
      "###############\n",
      "font_size=6.0\n",
      "label_size=6.\n",
      "lw = 3.\n",
      "fig,(ax1,ax2,ax3,ax4) = plt.subplots(1,4,figsize=(25.0,5.),dpi=120)\n",
      "\n",
      "#Imaging data\n",
      "ax1.errorbar(l_obs,q_obs,yerr=qerr_obs,fmt='o',label='q',color='blue')\n",
      "\n",
      "#q\n",
      "ax1.set_xlabel('Wavelength ($\\mu$m)')\n",
      "ax1.set_ylabel('q')\n",
      "ax1.set_ylim([-0.05,0.05])\n",
      "ax1.set_xlim([7,14])\n",
      "ax1.legend(loc='best')\n",
      "\n",
      "#u\n",
      "ax2.errorbar(l_obs,u_obs,yerr=uerr_obs,fmt='o',label='u',color='blue')\n",
      "\n",
      "ax2.set_xlabel('Wavelength ($\\mu$m)')\n",
      "ax2.set_ylabel('u')\n",
      "ax2.set_ylim([-0.05,0.05])\n",
      "ax2.set_xlim([7,14])\n",
      "ax2.legend(loc='best')\n",
      "\n",
      "#p\n",
      "ax3.errorbar(l_obs,p_obs,yerr=perr_obs,fmt='o',label='P',color='blue')\n",
      "\n",
      "ax3.set_xlabel('Wavelength ($\\mu$m)')\n",
      "ax3.set_ylabel('Degree of polarization')\n",
      "ax3.set_ylim([0,10])\n",
      "ax3.set_xlim([7,14])\n",
      "ax3.legend(loc='best')\n",
      "\n",
      "#pa\n",
      "ax4.errorbar(l_obs,pa_obs,yerr=pa_err_obs,fmt='o',label='PA',color='blue')\n",
      "\n",
      "ax4.set_xlabel('Wavelength ($\\mu$m)')\n",
      "ax4.set_ylabel('P.A. of polarization')\n",
      "ax4.set_ylim([-90,90])\n",
      "ax4.set_xlim([7,14])\n",
      "ax4.legend(loc='best')\n"
     ],
     "language": "python",
     "metadata": {},
     "outputs": [
      {
       "output_type": "stream",
       "stream": "stdout",
       "text": [
        "Removing 1 rows that don't match most common length 2.                       \n",
        "25 rows read into array.\n",
        "Removing 1 rows that don't match most common length 2.                       \n",
        "25 rows read into array.\n",
        "Removing 1 rows that don't match most common length 2.                       \n",
        "25 rows read into array.\n",
        "Removing 1 rows that don't match most common length 2.                       \n",
        "25 rows read into array.\n"
       ]
      },
      {
       "metadata": {},
       "output_type": "pyout",
       "prompt_number": 4,
       "text": [
        "<matplotlib.legend.Legend at 0x10d63f550>"
       ]
      },
      {
       "metadata": {},
       "output_type": "display_data",
       "png": "[encoded data removed]",
       "text": [
        "<matplotlib.figure.Figure at 0x10d108710>"
       ]
      }
     ],
     "prompt_number": 4
    },
    {
     "cell_type": "heading",
     "level": 5,
     "metadata": {},
     "source": [
      "Inference Model"
     ]
    },
    {
     "cell_type": "code",
     "collapsed": false,
     "input": [
      "#The aim is to fit q and u (as shown in the above plots) using the following linear combination \n",
      "#of 4 independent parameters (A,B,C,D) and 2 already known empirical functions (fa, fe).\n",
      "#q = A*fa*lambda + B*fe*lambda\n",
      "#u = C*fa*lambda + D*fe*lambda\n",
      "\n",
      "#Boundaries of A,B,C,D factors by n_minmax time to the min. and max. of q and u.\n",
      "n_minmax = 5\n",
      "qmin = min(q_obs)\n",
      "umin = min(u_obs)\n",
      "if umin < 0: \n",
      "    u_lower = umin + n_minmax*umin\n",
      "else:\n",
      "    u_lower = qmin - n_minmax*umin\n",
      "if qmin < 0:\n",
      "    q_lower = umin + n_minmax*qmin\n",
      "else:\n",
      "    q_lower = qmin - n_minmax*qmin\n",
      " \n",
      "    \n",
      "qmax = max(q_obs)\n",
      "umax = max(u_obs)\n",
      "if umax < 0: \n",
      "    u_upper = umax - n_minmax*umax\n",
      "else:\n",
      "    u_upper = umax + n_minmax*umax\n",
      "if qmax < 0:\n",
      "    q_upper = qmax - n_minmax*qmax\n",
      "else:\n",
      "    q_upper = qmax + n_minmax*qmax    \n",
      "        \n",
      "#Built the model\n",
      "with Model() as hierarchical_model:\n",
      "    #Variables are Uniform functions with width equal to 5 x std(q,u)\n",
      "    A  = Uniform('A',lower=q_lower,upper=q_upper)\n",
      "    B  = Uniform('B',lower=q_lower,upper=q_upper)\n",
      "    C  = Uniform('C',lower=u_lower,upper=u_upper)\n",
      "    D  = Uniform('D',lower=u_lower,upper=u_upper)\n",
      "    #Deterministic model. Dependence of variables\n",
      "    qa = A*fa_bn*l_bn\n",
      "    qe = B*fe_bn*l_bn\n",
      "    ua = C*fa_bn*l_bn\n",
      "    ue = D*fe_bn*l_bn\n",
      "    q_fit = qa + qe\n",
      "    u_fit = ua + ue\n",
      "    # Data likelihood. Normal distributions per each observable (data point per wavelength) \n",
      "    #with stdv the error of each data point from the observations.\n",
      "    q_like  = Normal('q', mu=q_fit, sd=qerr_obs, observed=q_obs) \n",
      "    u_like  = Normal('u', mu=u_fit, sd=uerr_obs, observed=u_obs)  \n",
      "\n",
      "with hierarchical_model:    \n",
      "    #Inference\n",
      "    start = find_MAP()\n",
      "    step = NUTS([A,B,C,D,q_like,u_like],scaling=start)\n",
      "    # draw n_post posterior samples using NUTS sampling\n",
      "    n_post = 500\n",
      "    hierarchical_trace = sample(n_post, step, start=start) "
     ],
     "language": "python",
     "metadata": {},
     "outputs": [
      {
       "output_type": "stream",
       "stream": "stdout",
       "text": [
        "\r",
        " [                  0%                  ] 2 of 500 complete in 1.2 sec"
       ]
      },
      {
       "output_type": "stream",
       "stream": "stdout",
       "text": [
        "\r",
        " [                  1%                  ] 6 of 500 complete in 2.3 sec"
       ]
      },
      {
       "output_type": "stream",
       "stream": "stdout",
       "text": [
        "\r",
        " [                  1%                  ] 8 of 500 complete in 3.1 sec"
       ]
      },
      {
       "output_type": "stream",
       "stream": "stdout",
       "text": [
        "\r",
        " [                  2%                  ] 10 of 500 complete in 3.7 sec"
       ]
      },
      {
       "output_type": "stream",
       "stream": "stdout",
       "text": [
        "\r",
        " [                  2%                  ] 12 of 500 complete in 4.9 sec"
       ]
      },
      {
       "output_type": "stream",
       "stream": "stdout",
       "text": [
        "\r",
        " [-                 2%                  ] 14 of 500 complete in 5.6 sec"
       ]
      },
      {
       "output_type": "stream",
       "stream": "stdout",
       "text": [
        "\r",
        " [-                 3%                  ] 16 of 500 complete in 6.3 sec"
       ]
      },
      {
       "output_type": "stream",
       "stream": "stdout",
       "text": [
        "\r",
        " [-                 3%                  ] 18 of 500 complete in 7.1 sec"
       ]
      },
      {
       "output_type": "stream",
       "stream": "stdout",
       "text": [
        "\r",
        " [-                 4%                  ] 22 of 500 complete in 7.7 sec"
       ]
      },
      {
       "output_type": "stream",
       "stream": "stdout",
       "text": [
        "\r",
        " [-                 5%                  ] 25 of 500 complete in 8.5 sec"
       ]
      },
      {
       "output_type": "stream",
       "stream": "stdout",
       "text": [
        "\r",
        " [--                5%                  ] 27 of 500 complete in 11.4 sec"
       ]
      },
      {
       "output_type": "stream",
       "stream": "stdout",
       "text": [
        "\r",
        " [--                5%                  ] 28 of 500 complete in 12.8 sec"
       ]
      },
      {
       "output_type": "stream",
       "stream": "stdout",
       "text": [
        "\r",
        " [--                5%                  ] 29 of 500 complete in 13.5 sec"
       ]
      },
      {
       "output_type": "stream",
       "stream": "stdout",
       "text": [
        "\r",
        " [--                6%                  ] 32 of 500 complete in 16.6 sec"
       ]
      },
      {
       "output_type": "stream",
       "stream": "stdout",
       "text": [
        "\r",
        " [--                6%                  ] 33 of 500 complete in 18.0 sec"
       ]
      },
      {
       "output_type": "stream",
       "stream": "stdout",
       "text": [
        "\r",
        " [--                6%                  ] 34 of 500 complete in 18.7 sec"
       ]
      },
      {
       "output_type": "stream",
       "stream": "stdout",
       "text": [
        "\r",
        " [--                7%                  ] 36 of 500 complete in 19.2 sec"
       ]
      },
      {
       "output_type": "stream",
       "stream": "stdout",
       "text": [
        "\r",
        " [--                7%                  ] 39 of 500 complete in 20.5 sec"
       ]
      },
      {
       "output_type": "stream",
       "stream": "stdout",
       "text": [
        "\r",
        " [---               8%                  ] 40 of 500 complete in 21.0 sec"
       ]
      },
      {
       "output_type": "stream",
       "stream": "stdout",
       "text": [
        "\r",
        " [---               8%                  ] 42 of 500 complete in 21.7 sec"
       ]
      },
      {
       "output_type": "stream",
       "stream": "stdout",
       "text": [
        "\r",
        " [---               9%                  ] 45 of 500 complete in 22.4 sec"
       ]
      },
      {
       "output_type": "stream",
       "stream": "stdout",
       "text": [
        "\r",
        " [---               9%                  ] 46 of 500 complete in 23.1 sec"
       ]
      },
      {
       "output_type": "stream",
       "stream": "stdout",
       "text": [
        "\r",
        " [---               9%                  ] 48 of 500 complete in 23.8 sec"
       ]
      },
      {
       "output_type": "stream",
       "stream": "stdout",
       "text": [
        "\r",
        " [---              10%                  ] 50 of 500 complete in 24.6 sec"
       ]
      },
      {
       "output_type": "stream",
       "stream": "stdout",
       "text": [
        "\r",
        " [----             10%                  ] 54 of 500 complete in 26.4 sec"
       ]
      },
      {
       "output_type": "stream",
       "stream": "stdout",
       "text": [
        "\r",
        " [----             11%                  ] 56 of 500 complete in 27.4 sec"
       ]
      },
      {
       "output_type": "stream",
       "stream": "stdout",
       "text": [
        "\r",
        " [----             11%                  ] 58 of 500 complete in 28.0 sec"
       ]
      },
      {
       "output_type": "stream",
       "stream": "stdout",
       "text": [
        "\r",
        " [----             12%                  ] 61 of 500 complete in 28.6 sec"
       ]
      },
      {
       "output_type": "stream",
       "stream": "stdout",
       "text": [
        "\r",
        " [-----            13%                  ] 66 of 500 complete in 29.4 sec"
       ]
      },
      {
       "output_type": "stream",
       "stream": "stdout",
       "text": [
        "\r",
        " [-----            13%                  ] 68 of 500 complete in 29.9 sec"
       ]
      },
      {
       "output_type": "stream",
       "stream": "stdout",
       "text": [
        "\r",
        " [-----            14%                  ] 70 of 500 complete in 30.6 sec"
       ]
      },
      {
       "output_type": "stream",
       "stream": "stdout",
       "text": [
        "\r",
        " [-----            14%                  ] 71 of 500 complete in 31.3 sec"
       ]
      },
      {
       "output_type": "stream",
       "stream": "stdout",
       "text": [
        "\r",
        " [-----            14%                  ] 74 of 500 complete in 32.0 sec"
       ]
      },
      {
       "output_type": "stream",
       "stream": "stdout",
       "text": [
        "\r",
        " [-----            15%                  ] 75 of 500 complete in 32.5 sec"
       ]
      },
      {
       "output_type": "stream",
       "stream": "stdout",
       "text": [
        "\r",
        " [-----            15%                  ] 76 of 500 complete in 33.1 sec"
       ]
      },
      {
       "output_type": "stream",
       "stream": "stdout",
       "text": [
        "\r",
        " [------           15%                  ] 79 of 500 complete in 33.9 sec"
       ]
      },
      {
       "output_type": "stream",
       "stream": "stdout",
       "text": [
        "\r",
        " [------           16%                  ] 82 of 500 complete in 34.7 sec"
       ]
      },
      {
       "output_type": "stream",
       "stream": "stdout",
       "text": [
        "\r",
        " [------           16%                  ] 84 of 500 complete in 36.0 sec"
       ]
      },
      {
       "output_type": "stream",
       "stream": "stdout",
       "text": [
        "\r",
        " [------           17%                  ] 87 of 500 complete in 36.5 sec"
       ]
      },
      {
       "output_type": "stream",
       "stream": "stdout",
       "text": [
        "\r",
        " [------           17%                  ] 89 of 500 complete in 37.1 sec"
       ]
      },
      {
       "output_type": "stream",
       "stream": "stdout",
       "text": [
        "\r",
        " [------           18%                  ] 92 of 500 complete in 37.6 sec"
       ]
      },
      {
       "output_type": "stream",
       "stream": "stdout",
       "text": [
        "\r",
        " [-------          18%                  ] 94 of 500 complete in 38.1 sec"
       ]
      },
      {
       "output_type": "stream",
       "stream": "stdout",
       "text": [
        "\r",
        " [-------          19%                  ] 95 of 500 complete in 38.8 sec"
       ]
      },
      {
       "output_type": "stream",
       "stream": "stdout",
       "text": [
        "\r",
        " [-------          19%                  ] 98 of 500 complete in 39.4 sec"
       ]
      },
      {
       "output_type": "stream",
       "stream": "stdout",
       "text": [
        "\r",
        " [-------          19%                  ] 99 of 500 complete in 40.0 sec"
       ]
      },
      {
       "output_type": "stream",
       "stream": "stdout",
       "text": [
        "\r",
        " [-------          20%                  ] 100 of 500 complete in 40.6 sec"
       ]
      },
      {
       "output_type": "stream",
       "stream": "stdout",
       "text": [
        "\r",
        " [-------          20%                  ] 101 of 500 complete in 41.1 sec"
       ]
      },
      {
       "output_type": "stream",
       "stream": "stdout",
       "text": [
        "\r",
        " [-------          20%                  ] 102 of 500 complete in 41.8 sec"
       ]
      },
      {
       "output_type": "stream",
       "stream": "stdout",
       "text": [
        "\r",
        " [-------          20%                  ] 104 of 500 complete in 42.4 sec"
       ]
      },
      {
       "output_type": "stream",
       "stream": "stdout",
       "text": [
        "\r",
        " [--------         22%                  ] 111 of 500 complete in 43.0 sec"
       ]
      },
      {
       "output_type": "stream",
       "stream": "stdout",
       "text": [
        "\r",
        " [--------         22%                  ] 113 of 500 complete in 43.8 sec"
       ]
      },
      {
       "output_type": "stream",
       "stream": "stdout",
       "text": [
        "\r",
        " [--------         23%                  ] 115 of 500 complete in 44.3 sec"
       ]
      },
      {
       "output_type": "stream",
       "stream": "stdout",
       "text": [
        "\r",
        " [---------        24%                  ] 120 of 500 complete in 45.1 sec"
       ]
      },
      {
       "output_type": "stream",
       "stream": "stdout",
       "text": [
        "\r",
        " [---------        24%                  ] 123 of 500 complete in 45.7 sec"
       ]
      },
      {
       "output_type": "stream",
       "stream": "stdout",
       "text": [
        "\r",
        " [---------        25%                  ] 125 of 500 complete in 46.3 sec"
       ]
      },
      {
       "output_type": "stream",
       "stream": "stdout",
       "text": [
        "\r",
        " [----------       26%                  ] 132 of 500 complete in 47.3 sec"
       ]
      },
      {
       "output_type": "stream",
       "stream": "stdout",
       "text": [
        "\r",
        " [----------       27%                  ] 135 of 500 complete in 48.1 sec"
       ]
      },
      {
       "output_type": "stream",
       "stream": "stdout",
       "text": [
        "\r",
        " [----------       27%                  ] 139 of 500 complete in 48.8 sec"
       ]
      },
      {
       "output_type": "stream",
       "stream": "stdout",
       "text": [
        "\r",
        " [----------       28%                  ] 142 of 500 complete in 49.6 sec"
       ]
      },
      {
       "output_type": "stream",
       "stream": "stdout",
       "text": [
        "\r",
        " [-----------      29%                  ] 146 of 500 complete in 50.5 sec"
       ]
      },
      {
       "output_type": "stream",
       "stream": "stdout",
       "text": [
        "\r",
        " [-----------      29%                  ] 149 of 500 complete in 51.1 sec"
       ]
      },
      {
       "output_type": "stream",
       "stream": "stdout",
       "text": [
        "\r",
        " [-----------      30%                  ] 151 of 500 complete in 52.1 sec"
       ]
      },
      {
       "output_type": "stream",
       "stream": "stdout",
       "text": [
        "\r",
        " [-----------      30%                  ] 154 of 500 complete in 53.2 sec"
       ]
      },
      {
       "output_type": "stream",
       "stream": "stdout",
       "text": [
        "\r",
        " [-----------      31%                  ] 156 of 500 complete in 53.9 sec"
       ]
      },
      {
       "output_type": "stream",
       "stream": "stdout",
       "text": [
        "\r",
        " [------------     31%                  ] 159 of 500 complete in 54.4 sec"
       ]
      },
      {
       "output_type": "stream",
       "stream": "stdout",
       "text": [
        "\r",
        " [------------     33%                  ] 165 of 500 complete in 55.1 sec"
       ]
      },
      {
       "output_type": "stream",
       "stream": "stdout",
       "text": [
        "\r",
        " [------------     33%                  ] 168 of 500 complete in 55.8 sec"
       ]
      },
      {
       "output_type": "stream",
       "stream": "stdout",
       "text": [
        "\r",
        " [------------     34%                  ] 170 of 500 complete in 56.5 sec"
       ]
      },
      {
       "output_type": "stream",
       "stream": "stdout",
       "text": [
        "\r",
        " [-------------    34%                  ] 172 of 500 complete in 57.5 sec"
       ]
      },
      {
       "output_type": "stream",
       "stream": "stdout",
       "text": [
        "\r",
        " [-------------    34%                  ] 174 of 500 complete in 58.5 sec"
       ]
      },
      {
       "output_type": "stream",
       "stream": "stdout",
       "text": [
        "\r",
        " [-------------    35%                  ] 177 of 500 complete in 59.3 sec"
       ]
      },
      {
       "output_type": "stream",
       "stream": "stdout",
       "text": [
        "\r",
        " [-------------    35%                  ] 179 of 500 complete in 59.8 sec"
       ]
      },
      {
       "output_type": "stream",
       "stream": "stdout",
       "text": [
        "\r",
        " [-------------    36%                  ] 181 of 500 complete in 60.3 sec"
       ]
      },
      {
       "output_type": "stream",
       "stream": "stdout",
       "text": [
        "\r",
        " [-------------    36%                  ] 184 of 500 complete in 60.9 sec"
       ]
      },
      {
       "output_type": "stream",
       "stream": "stdout",
       "text": [
        "\r",
        " [--------------   37%                  ] 188 of 500 complete in 61.8 sec"
       ]
      },
      {
       "output_type": "stream",
       "stream": "stdout",
       "text": [
        "\r",
        " [--------------   38%                  ] 190 of 500 complete in 62.8 sec"
       ]
      },
      {
       "output_type": "stream",
       "stream": "stdout",
       "text": [
        "\r",
        " [--------------   38%                  ] 194 of 500 complete in 63.3 sec"
       ]
      },
      {
       "output_type": "stream",
       "stream": "stdout",
       "text": [
        "\r",
        " [---------------  39%                  ] 198 of 500 complete in 64.0 sec"
       ]
      },
      {
       "output_type": "stream",
       "stream": "stdout",
       "text": [
        "\r",
        " [---------------  40%                  ] 201 of 500 complete in 64.6 sec"
       ]
      },
      {
       "output_type": "stream",
       "stream": "stdout",
       "text": [
        "\r",
        " [---------------  40%                  ] 203 of 500 complete in 65.6 sec"
       ]
      },
      {
       "output_type": "stream",
       "stream": "stdout",
       "text": [
        "\r",
        " [---------------  41%                  ] 206 of 500 complete in 66.3 sec"
       ]
      },
      {
       "output_type": "stream",
       "stream": "stdout",
       "text": [
        "\r",
        " [---------------- 42%                  ] 211 of 500 complete in 66.8 sec"
       ]
      },
      {
       "output_type": "stream",
       "stream": "stdout",
       "text": [
        "\r",
        " [---------------- 42%                  ] 214 of 500 complete in 67.9 sec"
       ]
      },
      {
       "output_type": "stream",
       "stream": "stdout",
       "text": [
        "\r",
        " [---------------- 43%                  ] 217 of 500 complete in 68.5 sec"
       ]
      },
      {
       "output_type": "stream",
       "stream": "stdout",
       "text": [
        "\r",
        " [---------------- 44%                  ] 220 of 500 complete in 69.3 sec"
       ]
      },
      {
       "output_type": "stream",
       "stream": "stdout",
       "text": [
        "\r",
        " [---------------- 44%                  ] 223 of 500 complete in 70.2 sec"
       ]
      },
      {
       "output_type": "stream",
       "stream": "stdout",
       "text": [
        "\r",
        " [-----------------45%                  ] 225 of 500 complete in 70.8 sec"
       ]
      },
      {
       "output_type": "stream",
       "stream": "stdout",
       "text": [
        "\r",
        " [-----------------45%                  ] 228 of 500 complete in 72.5 sec"
       ]
      },
      {
       "output_type": "stream",
       "stream": "stdout",
       "text": [
        "\r",
        " [-----------------46%                  ] 230 of 500 complete in 73.2 sec"
       ]
      },
      {
       "output_type": "stream",
       "stream": "stdout",
       "text": [
        "\r",
        " [-----------------46%                  ] 233 of 500 complete in 73.9 sec"
       ]
      },
      {
       "output_type": "stream",
       "stream": "stdout",
       "text": [
        "\r",
        " [-----------------47%                  ] 235 of 500 complete in 74.6 sec"
       ]
      },
      {
       "output_type": "stream",
       "stream": "stdout",
       "text": [
        "\r",
        " [-----------------47%                  ] 237 of 500 complete in 75.3 sec"
       ]
      },
      {
       "output_type": "stream",
       "stream": "stdout",
       "text": [
        "\r",
        " [-----------------48%                  ] 240 of 500 complete in 76.2 sec"
       ]
      },
      {
       "output_type": "stream",
       "stream": "stdout",
       "text": [
        "\r",
        " [-----------------48%                  ] 241 of 500 complete in 76.9 sec"
       ]
      },
      {
       "output_type": "stream",
       "stream": "stdout",
       "text": [
        "\r",
        " [-----------------48%                  ] 244 of 500 complete in 77.5 sec"
       ]
      },
      {
       "output_type": "stream",
       "stream": "stdout",
       "text": [
        "\r",
        " [-----------------49%                  ] 248 of 500 complete in 78.1 sec"
       ]
      },
      {
       "output_type": "stream",
       "stream": "stdout",
       "text": [
        "\r",
        " [-----------------50%                  ] 253 of 500 complete in 78.7 sec"
       ]
      },
      {
       "output_type": "stream",
       "stream": "stdout",
       "text": [
        "\r",
        " [-----------------51%                  ] 257 of 500 complete in 79.5 sec"
       ]
      },
      {
       "output_type": "stream",
       "stream": "stdout",
       "text": [
        "\r",
        " [-----------------52%                  ] 260 of 500 complete in 80.3 sec"
       ]
      },
      {
       "output_type": "stream",
       "stream": "stdout",
       "text": [
        "\r",
        " [-----------------53%                  ] 265 of 500 complete in 80.9 sec"
       ]
      },
      {
       "output_type": "stream",
       "stream": "stdout",
       "text": [
        "\r",
        " [-----------------53%                  ] 268 of 500 complete in 82.0 sec"
       ]
      },
      {
       "output_type": "stream",
       "stream": "stdout",
       "text": [
        "\r",
        " [-----------------54%                  ] 272 of 500 complete in 82.9 sec"
       ]
      },
      {
       "output_type": "stream",
       "stream": "stdout",
       "text": [
        "\r",
        " [-----------------54%                  ] 273 of 500 complete in 83.5 sec"
       ]
      },
      {
       "output_type": "stream",
       "stream": "stdout",
       "text": [
        "\r",
        " [-----------------55%                  ] 276 of 500 complete in 84.3 sec"
       ]
      },
      {
       "output_type": "stream",
       "stream": "stdout",
       "text": [
        "\r",
        " [-----------------55%-                 ] 278 of 500 complete in 85.0 sec"
       ]
      },
      {
       "output_type": "stream",
       "stream": "stdout",
       "text": [
        "\r",
        " [-----------------56%-                 ] 281 of 500 complete in 85.6 sec"
       ]
      },
      {
       "output_type": "stream",
       "stream": "stdout",
       "text": [
        "\r",
        " [-----------------56%-                 ] 283 of 500 complete in 86.1 sec"
       ]
      },
      {
       "output_type": "stream",
       "stream": "stdout",
       "text": [
        "\r",
        " [-----------------57%-                 ] 285 of 500 complete in 86.7 sec"
       ]
      },
      {
       "output_type": "stream",
       "stream": "stdout",
       "text": [
        "\r",
        " [-----------------57%-                 ] 287 of 500 complete in 87.3 sec"
       ]
      },
      {
       "output_type": "stream",
       "stream": "stdout",
       "text": [
        "\r",
        " [-----------------57%-                 ] 289 of 500 complete in 88.0 sec"
       ]
      },
      {
       "output_type": "stream",
       "stream": "stdout",
       "text": [
        "\r",
        " [-----------------58%--                ] 292 of 500 complete in 88.8 sec"
       ]
      },
      {
       "output_type": "stream",
       "stream": "stdout",
       "text": [
        "\r",
        " [-----------------59%--                ] 296 of 500 complete in 89.4 sec"
       ]
      },
      {
       "output_type": "stream",
       "stream": "stdout",
       "text": [
        "\r",
        " [-----------------59%--                ] 297 of 500 complete in 90.1 sec"
       ]
      },
      {
       "output_type": "stream",
       "stream": "stdout",
       "text": [
        "\r",
        " [-----------------60%--                ] 300 of 500 complete in 90.6 sec"
       ]
      },
      {
       "output_type": "stream",
       "stream": "stdout",
       "text": [
        "\r",
        " [-----------------60%--                ] 302 of 500 complete in 91.6 sec"
       ]
      },
      {
       "output_type": "stream",
       "stream": "stdout",
       "text": [
        "\r",
        " [-----------------61%---               ] 306 of 500 complete in 92.8 sec"
       ]
      },
      {
       "output_type": "stream",
       "stream": "stdout",
       "text": [
        "\r",
        " [-----------------61%---               ] 309 of 500 complete in 93.3 sec"
       ]
      },
      {
       "output_type": "stream",
       "stream": "stdout",
       "text": [
        "\r",
        " [-----------------62%---               ] 312 of 500 complete in 94.0 sec"
       ]
      },
      {
       "output_type": "stream",
       "stream": "stdout",
       "text": [
        "\r",
        " [-----------------63%----              ] 316 of 500 complete in 94.9 sec"
       ]
      },
      {
       "output_type": "stream",
       "stream": "stdout",
       "text": [
        "\r",
        " [-----------------63%----              ] 319 of 500 complete in 95.4 sec"
       ]
      },
      {
       "output_type": "stream",
       "stream": "stdout",
       "text": [
        "\r",
        " [-----------------64%----              ] 323 of 500 complete in 96.0 sec"
       ]
      },
      {
       "output_type": "stream",
       "stream": "stdout",
       "text": [
        "\r",
        " [-----------------65%----              ] 326 of 500 complete in 96.8 sec"
       ]
      },
      {
       "output_type": "stream",
       "stream": "stdout",
       "text": [
        "\r",
        " [-----------------66%-----             ] 332 of 500 complete in 97.4 sec"
       ]
      },
      {
       "output_type": "stream",
       "stream": "stdout",
       "text": [
        "\r",
        " [-----------------67%-----             ] 335 of 500 complete in 98.2 sec"
       ]
      },
      {
       "output_type": "stream",
       "stream": "stdout",
       "text": [
        "\r",
        " [-----------------67%-----             ] 337 of 500 complete in 98.7 sec"
       ]
      },
      {
       "output_type": "stream",
       "stream": "stdout",
       "text": [
        "\r",
        " [-----------------68%-----             ] 340 of 500 complete in 99.3 sec"
       ]
      },
      {
       "output_type": "stream",
       "stream": "stdout",
       "text": [
        "\r",
        " [-----------------68%------            ] 343 of 500 complete in 100.0 sec"
       ]
      },
      {
       "output_type": "stream",
       "stream": "stdout",
       "text": [
        "\r",
        " [-----------------69%------            ] 346 of 500 complete in 100.7 sec"
       ]
      },
      {
       "output_type": "stream",
       "stream": "stdout",
       "text": [
        "\r",
        " [-----------------69%------            ] 349 of 500 complete in 101.4 sec"
       ]
      },
      {
       "output_type": "stream",
       "stream": "stdout",
       "text": [
        "\r",
        " [-----------------70%------            ] 350 of 500 complete in 102.1 sec"
       ]
      },
      {
       "output_type": "stream",
       "stream": "stdout",
       "text": [
        "\r",
        " [-----------------70%------            ] 351 of 500 complete in 102.8 sec"
       ]
      },
      {
       "output_type": "stream",
       "stream": "stdout",
       "text": [
        "\r",
        " [-----------------70%------            ] 352 of 500 complete in 103.5 sec"
       ]
      },
      {
       "output_type": "stream",
       "stream": "stdout",
       "text": [
        "\r",
        " [-----------------70%------            ] 354 of 500 complete in 104.3 sec"
       ]
      },
      {
       "output_type": "stream",
       "stream": "stdout",
       "text": [
        "\r",
        " [-----------------71%-------           ] 358 of 500 complete in 105.4 sec"
       ]
      },
      {
       "output_type": "stream",
       "stream": "stdout",
       "text": [
        "\r",
        " [-----------------72%-------           ] 361 of 500 complete in 106.0 sec"
       ]
      },
      {
       "output_type": "stream",
       "stream": "stdout",
       "text": [
        "\r",
        " [-----------------73%-------           ] 365 of 500 complete in 106.7 sec"
       ]
      },
      {
       "output_type": "stream",
       "stream": "stdout",
       "text": [
        "\r",
        " [-----------------73%-------           ] 367 of 500 complete in 107.7 sec"
       ]
      },
      {
       "output_type": "stream",
       "stream": "stdout",
       "text": [
        "\r",
        " [-----------------74%--------          ] 371 of 500 complete in 108.4 sec"
       ]
      },
      {
       "output_type": "stream",
       "stream": "stdout",
       "text": [
        "\r",
        " [-----------------74%--------          ] 374 of 500 complete in 109.0 sec"
       ]
      },
      {
       "output_type": "stream",
       "stream": "stdout",
       "text": [
        "\r",
        " [-----------------75%--------          ] 377 of 500 complete in 110.1 sec"
       ]
      },
      {
       "output_type": "stream",
       "stream": "stdout",
       "text": [
        "\r",
        " [-----------------75%--------          ] 379 of 500 complete in 111.1 sec"
       ]
      },
      {
       "output_type": "stream",
       "stream": "stdout",
       "text": [
        "\r",
        " [-----------------76%--------          ] 381 of 500 complete in 111.8 sec"
       ]
      },
      {
       "output_type": "stream",
       "stream": "stdout",
       "text": [
        "\r",
        " [-----------------77%---------         ] 385 of 500 complete in 112.6 sec"
       ]
      },
      {
       "output_type": "stream",
       "stream": "stdout",
       "text": [
        "\r",
        " [-----------------77%---------         ] 386 of 500 complete in 113.3 sec"
       ]
      },
      {
       "output_type": "stream",
       "stream": "stdout",
       "text": [
        "\r",
        " [-----------------77%---------         ] 387 of 500 complete in 114.0 sec"
       ]
      },
      {
       "output_type": "stream",
       "stream": "stdout",
       "text": [
        "\r",
        " [-----------------78%---------         ] 390 of 500 complete in 114.6 sec"
       ]
      },
      {
       "output_type": "stream",
       "stream": "stdout",
       "text": [
        "\r",
        " [-----------------78%---------         ] 394 of 500 complete in 115.1 sec"
       ]
      },
      {
       "output_type": "stream",
       "stream": "stdout",
       "text": [
        "\r",
        " [-----------------79%----------        ] 396 of 500 complete in 115.9 sec"
       ]
      },
      {
       "output_type": "stream",
       "stream": "stdout",
       "text": [
        "\r",
        " [-----------------79%----------        ] 399 of 500 complete in 116.5 sec"
       ]
      },
      {
       "output_type": "stream",
       "stream": "stdout",
       "text": [
        "\r",
        " [-----------------80%----------        ] 403 of 500 complete in 117.0 sec"
       ]
      },
      {
       "output_type": "stream",
       "stream": "stdout",
       "text": [
        "\r",
        " [-----------------81%----------        ] 406 of 500 complete in 117.5 sec"
       ]
      },
      {
       "output_type": "stream",
       "stream": "stdout",
       "text": [
        "\r",
        " [-----------------81%----------        ] 407 of 500 complete in 118.2 sec"
       ]
      },
      {
       "output_type": "stream",
       "stream": "stdout",
       "text": [
        "\r",
        " [-----------------81%-----------       ] 408 of 500 complete in 118.9 sec"
       ]
      },
      {
       "output_type": "stream",
       "stream": "stdout",
       "text": [
        "\r",
        " [-----------------82%-----------       ] 411 of 500 complete in 119.5 sec"
       ]
      },
      {
       "output_type": "stream",
       "stream": "stdout",
       "text": [
        "\r",
        " [-----------------82%-----------       ] 413 of 500 complete in 120.2 sec"
       ]
      },
      {
       "output_type": "stream",
       "stream": "stdout",
       "text": [
        "\r",
        " [-----------------83%-----------       ] 416 of 500 complete in 121.0 sec"
       ]
      },
      {
       "output_type": "stream",
       "stream": "stdout",
       "text": [
        "\r",
        " [-----------------83%-----------       ] 419 of 500 complete in 121.8 sec"
       ]
      },
      {
       "output_type": "stream",
       "stream": "stdout",
       "text": [
        "\r",
        " [-----------------84%-----------       ] 421 of 500 complete in 122.8 sec"
       ]
      },
      {
       "output_type": "stream",
       "stream": "stdout",
       "text": [
        "\r",
        " [-----------------85%------------      ] 425 of 500 complete in 123.4 sec"
       ]
      },
      {
       "output_type": "stream",
       "stream": "stdout",
       "text": [
        "\r",
        " [-----------------85%------------      ] 429 of 500 complete in 124.1 sec"
       ]
      },
      {
       "output_type": "stream",
       "stream": "stdout",
       "text": [
        "\r",
        " [-----------------86%------------      ] 430 of 500 complete in 124.8 sec"
       ]
      },
      {
       "output_type": "stream",
       "stream": "stdout",
       "text": [
        "\r",
        " [-----------------86%------------      ] 434 of 500 complete in 125.9 sec"
       ]
      },
      {
       "output_type": "stream",
       "stream": "stdout",
       "text": [
        "\r",
        " [-----------------87%-------------     ] 436 of 500 complete in 126.7 sec"
       ]
      },
      {
       "output_type": "stream",
       "stream": "stdout",
       "text": [
        "\r",
        " [-----------------88%-------------     ] 440 of 500 complete in 127.2 sec"
       ]
      },
      {
       "output_type": "stream",
       "stream": "stdout",
       "text": [
        "\r",
        " [-----------------88%-------------     ] 444 of 500 complete in 127.8 sec"
       ]
      },
      {
       "output_type": "stream",
       "stream": "stdout",
       "text": [
        "\r",
        " [-----------------90%--------------    ] 450 of 500 complete in 128.5 sec"
       ]
      },
      {
       "output_type": "stream",
       "stream": "stdout",
       "text": [
        "\r",
        " [-----------------90%--------------    ] 454 of 500 complete in 129.6 sec"
       ]
      },
      {
       "output_type": "stream",
       "stream": "stdout",
       "text": [
        "\r",
        " [-----------------91%--------------    ] 458 of 500 complete in 130.2 sec"
       ]
      },
      {
       "output_type": "stream",
       "stream": "stdout",
       "text": [
        "\r",
        " [-----------------92%--------------    ] 460 of 500 complete in 131.2 sec"
       ]
      },
      {
       "output_type": "stream",
       "stream": "stdout",
       "text": [
        "\r",
        " [-----------------92%---------------   ] 461 of 500 complete in 131.8 sec"
       ]
      },
      {
       "output_type": "stream",
       "stream": "stdout",
       "text": [
        "\r",
        " [-----------------92%---------------   ] 463 of 500 complete in 132.7 sec"
       ]
      },
      {
       "output_type": "stream",
       "stream": "stdout",
       "text": [
        "\r",
        " [-----------------93%---------------   ] 467 of 500 complete in 133.4 sec"
       ]
      },
      {
       "output_type": "stream",
       "stream": "stdout",
       "text": [
        "\r",
        " [-----------------94%---------------   ] 470 of 500 complete in 134.1 sec"
       ]
      },
      {
       "output_type": "stream",
       "stream": "stdout",
       "text": [
        "\r",
        " [-----------------94%---------------   ] 472 of 500 complete in 134.9 sec"
       ]
      },
      {
       "output_type": "stream",
       "stream": "stdout",
       "text": [
        "\r",
        " [-----------------94%----------------  ] 474 of 500 complete in 135.6 sec"
       ]
      },
      {
       "output_type": "stream",
       "stream": "stdout",
       "text": [
        "\r",
        " [-----------------95%----------------  ] 477 of 500 complete in 136.1 sec"
       ]
      },
      {
       "output_type": "stream",
       "stream": "stdout",
       "text": [
        "\r",
        " [-----------------96%----------------  ] 480 of 500 complete in 136.6 sec"
       ]
      },
      {
       "output_type": "stream",
       "stream": "stdout",
       "text": [
        "\r",
        " [-----------------97%----------------  ] 485 of 500 complete in 137.2 sec"
       ]
      },
      {
       "output_type": "stream",
       "stream": "stdout",
       "text": [
        "\r",
        " [-----------------97%----------------- ] 487 of 500 complete in 137.7 sec"
       ]
      },
      {
       "output_type": "stream",
       "stream": "stdout",
       "text": [
        "\r",
        " [-----------------97%----------------- ] 489 of 500 complete in 138.5 sec"
       ]
      },
      {
       "output_type": "stream",
       "stream": "stdout",
       "text": [
        "\r",
        " [-----------------98%----------------- ] 492 of 500 complete in 139.1 sec"
       ]
      },
      {
       "output_type": "stream",
       "stream": "stdout",
       "text": [
        "\r",
        " [-----------------98%----------------- ] 494 of 500 complete in 139.9 sec"
       ]
      },
      {
       "output_type": "stream",
       "stream": "stdout",
       "text": [
        "\r",
        " [-----------------99%----------------- ] 495 of 500 complete in 140.6 sec"
       ]
      },
      {
       "output_type": "stream",
       "stream": "stdout",
       "text": [
        "\r",
        " [-----------------99%----------------- ] 499 of 500 complete in 141.2 sec"
       ]
      },
      {
       "output_type": "stream",
       "stream": "stdout",
       "text": [
        "\r",
        " [-----------------100%-----------------] 501 of 500 complete in 141.7 sec"
       ]
      }
     ],
     "prompt_number": 7
    },
    {
     "cell_type": "code",
     "collapsed": false,
     "input": [
      "#############\n",
      "### PLOTS ###\n",
      "#############\n",
      "#Remove the first n_steps from the trace\n",
      "n_steps = 0\n",
      "#Plots of the posteriors and trace to check convergence beyond n_step.\n",
      "traceplot(hierarchical_trace[n_steps:],['A','B','C','D']);    "
     ],
     "language": "python",
     "metadata": {},
     "outputs": [
      {
       "metadata": {},
       "output_type": "display_data",
       "png": "[encoded data removed]",
       "text": [
        "<matplotlib.figure.Figure at 0x120086590>"
       ]
      }
     ],
     "prompt_number": 9
    },
    {
     "cell_type": "code",
     "collapsed": false,
     "input": [
      "summary(hierarchical_trace[n_steps:],['A','B','C','D'])"
     ],
     "language": "python",
     "metadata": {},
     "outputs": [
      {
       "output_type": "stream",
       "stream": "stdout",
       "text": [
        "\n",
        "A:\n",
        " \n",
        "  Mean             SD               MC Error         95% HPD interval\n",
        "  -------------------------------------------------------------------\n",
        "  \n",
        "  0.001            0.000            0.000            [0.000, 0.001]\n",
        "\n",
        "  Posterior quantiles:\n",
        "  2.5            25             50             75             97.5\n",
        "  |--------------|==============|==============|--------------|\n",
        "  \n",
        "  0.000          0.000          0.001          0.001          0.001\n",
        "\n",
        "\n",
        "B:\n",
        " \n",
        "  Mean             SD               MC Error         95% HPD interval\n",
        "  -------------------------------------------------------------------\n",
        "  \n",
        "  0.001            0.000            0.000            [0.000, 0.001]\n",
        "\n",
        "  Posterior quantiles:\n",
        "  2.5            25             50             75             97.5\n",
        "  |--------------|==============|==============|--------------|\n",
        "  \n",
        "  0.000          0.000          0.001          0.001          0.001\n",
        "\n",
        "\n",
        "C:\n",
        " \n",
        "  Mean             SD               MC Error         95% HPD interval\n",
        "  -------------------------------------------------------------------\n",
        "  \n",
        "  -0.006           0.000            0.000            [-0.006, -0.005]\n",
        "\n",
        "  Posterior quantiles:\n",
        "  2.5            25             50             75             97.5\n",
        "  |--------------|==============|==============|--------------|\n",
        "  \n",
        "  -0.006         -0.006         -0.006         -0.006         -0.005\n",
        "\n",
        "\n",
        "D:\n",
        " \n",
        "  Mean             SD               MC Error         95% HPD interval\n",
        "  -------------------------------------------------------------------\n",
        "  \n",
        "  0.003            0.000            0.000            [0.002, 0.003]\n",
        "\n",
        "  Posterior quantiles:\n",
        "  2.5            25             50             75             97.5\n",
        "  |--------------|==============|==============|--------------|\n",
        "  \n",
        "  0.002          0.003          0.003          0.003          0.003\n",
        "\n"
       ]
      }
     ],
     "prompt_number": 10
    },
    {
     "cell_type": "heading",
     "level": 5,
     "metadata": {},
     "source": [
      "Posteriors and fitting"
     ]
    },
    {
     "cell_type": "code",
     "collapsed": false,
     "input": [
      "#Data from trace to dataframe using pandas\n",
      "df_trace = trace_to_dataframe(hierarchical_trace[n_steps:])\n",
      "\n",
      "################\n",
      "### Best fit ###\n",
      "################\n",
      "A_m     = stats.mode(df_trace['A'])[0]\n",
      "B_m     = stats.mode(df_trace['B'])[0]\n",
      "C_m     = stats.mode(df_trace['C'])[0]\n",
      "D_m     = stats.mode(df_trace['D'])[0]\n",
      "\n",
      "fa = fa_bn*l_bn\n",
      "fe = fe_bn*l_bn\n",
      "\n",
      "qa_bestfit = A_m*fa\n",
      "qe_bestfit = B_m*fe\n",
      "q_bestfit = qa_bestfit + qe_bestfit\n",
      "\n",
      "ua_bestfit = C_m*fa\n",
      "ue_bestfit = D_m*fe\n",
      "u_bestfit = ua_bestfit + ue_bestfit\n",
      "\n",
      "\n",
      "p_bestfit  = 100.*np.sqrt(q_bestfit*q_bestfit + u_bestfit*u_bestfit)\n",
      "p_a_bestfit = 100.*np.sqrt(qa_bestfit*qa_bestfit + ua_bestfit*ua_bestfit) \n",
      "p_e_bestfit = 100.*np.sqrt(qe_bestfit*qe_bestfit + ue_bestfit*ue_bestfit) \n",
      "\n",
      "pa_bestfit   = 0.5*np.arctan(u_bestfit/q_bestfit)*180./3.1415 \n",
      "pa_a_bestfit = 0.5*np.arctan(ua_bestfit/qa_bestfit)*180./3.1415 + zeros(len(l_bn))\n",
      "pa_e_bestfit = 0.5*np.arctan(ue_bestfit/qe_bestfit)*180./3.1415 + zeros(len(l_bn))\n",
      "\n",
      "\n",
      "##################\n",
      "### Posteriors ###\n",
      "##################\n",
      "#Extracting the posteriors from the interval \n",
      "cred_interval_A = df_trace['A'].quantile(.25), df_trace['A'].quantile(.75)\n",
      "cred_interval_B = df_trace['B'].quantile(.25), df_trace['B'].quantile(.75)\n",
      "cred_interval_C = df_trace['C'].quantile(.25), df_trace['C'].quantile(.75)\n",
      "cred_interval_D = df_trace['D'].quantile(.25), df_trace['D'].quantile(.75)\n",
      "\n",
      "A_interval = hierarchical_trace.A[n_steps:][np.where((hierarchical_trace.A[n_steps:] < max(cred_interval_A))\n",
      "                                             & (hierarchical_trace.A[n_steps:] > min(cred_interval_A)))]\n",
      "\n",
      "B_interval = hierarchical_trace.B[n_steps:][np.where((hierarchical_trace.B[n_steps:] < max(cred_interval_B))\n",
      "                                             & (hierarchical_trace.B[n_steps:] > min(cred_interval_B)))]\n",
      "\n",
      "C_interval = hierarchical_trace.C[n_steps:][np.where((hierarchical_trace.C[n_steps:] < max(cred_interval_C))\n",
      "                                             & (hierarchical_trace.C[n_steps:] > min(cred_interval_C)))]\n",
      "\n",
      "D_interval = hierarchical_trace.D[n_steps:][np.where((hierarchical_trace.D[n_steps:] < max(cred_interval_D))\n",
      "                                             & (hierarchical_trace.D[n_steps:] > min(cred_interval_D)))]\n",
      "\n",
      "\n",
      "###############\n",
      "### Figures ###\n",
      "###############\n",
      "font_size=50.0\n",
      "label_size=50.\n",
      "lw_components = 2.\n",
      "lw_trace = 1.\n",
      "ll = l_bn\n",
      "alpha = 0.02\n",
      "fig,(ax1,ax2,ax3,ax4) = plt.subplots(1,4,figsize=(20.0,4.),dpi=120)\n",
      "\n",
      "for ii in range(0,len(A_interval)):\n",
      "    qa = A_interval[ii] * fa \n",
      "    qe = B_interval[ii] * fe \n",
      "    q = qa + qe\n",
      "    ax1.plot(ll,q,lw=lw_trace,color='red',alpha=alpha)\n",
      "\n",
      "    ua = C_interval[ii] * fa\n",
      "    ue = D_interval[ii] * fe \n",
      "    u = ua + ue\n",
      "    ax2.plot(ll,u,lw=lw_trace,color='red',alpha=alpha)\n",
      "    \n",
      "    p = 100*np.sqrt(q*q + u*u)\n",
      "    p_a = 100*np.sqrt(qa*qa + ua*ua) \n",
      "    p_e = 100*np.sqrt(qe*qe + ue*ue) \n",
      "    ax3.plot(ll,p,lw=lw_trace,color='red',alpha=alpha)\n",
      "    ax3.plot(ll,p_a,lw=lw_trace,color='grey',alpha=alpha)\n",
      "    ax3.plot(ll,p_e,lw=lw_trace,color='grey',alpha=alpha)\n",
      "    \n",
      "    pa = 0.5*np.arctan(u/q)*180./3.1592\n",
      "    pa_a = 0.5*np.arctan(ua/qa)*180./3.1592\n",
      "    pa_e = 0.5*np.arctan(ue/qe)*180./3.1592\n",
      "    ax4.plot(ll,pa,lw=lw_trace,color='red',alpha=alpha)\n",
      "    ax4.plot(ll,pa_a,lw=lw_trace,color='grey',alpha=alpha)\n",
      "    ax4.plot(ll,pa_e,lw=lw_trace,color='grey',alpha=alpha)\n",
      "\n",
      "#q\n",
      "ax1.errorbar(l_obs,q_obs,yerr=qerr_obs,fmt='o',label='W51',color='blue')\n",
      "ax1.plot(ll,q_bestfit,lw=lw_components,color='black',label='Model: total')\n",
      "ax1.plot(ll,qa_bestfit,lw=lw_components,color='black',linestyle='-.',label='Model: absorptive component')\n",
      "ax1.plot(ll,qe_bestfit,lw=lw_components,color='black',linestyle=':',label='Model: emissive component')\n",
      "\n",
      "ax1.set_xlabel('Wavelength ($\\mu$m)')\n",
      "ax1.set_ylabel('q')\n",
      "ax1.set_ylim([-0.07,0.07])\n",
      "ax1.set_xlim([7,14])\n",
      "\n",
      "\n",
      "#u\n",
      "ax2.errorbar(l_obs,u_obs,yerr=uerr_obs,fmt='o',label='W51',color='blue')\n",
      "ax2.plot(ll,u_bestfit,lw=lw_components,color='black',label='Model: total')\n",
      "ax2.plot(ll,ua_bestfit,lw=lw_components,color='black',linestyle='-.',label='Model: absorptive component')\n",
      "ax2.plot(ll,ue_bestfit,lw=lw_components,color='black',linestyle=':',label='Model: emissive component')\n",
      "\n",
      "\n",
      "ax2.set_xlabel('Wavelength ($\\mu$m)')\n",
      "ax2.set_ylabel('u')\n",
      "ax2.set_ylim([-0.07,0.07])\n",
      "ax2.set_xlim([7,14])\n",
      "\n",
      "#p\n",
      "ax3.errorbar(l_obs,p_obs,yerr=perr_obs,fmt='o',label='W51',color='blue')\n",
      "ax3.plot(ll,p_bestfit,lw=lw_components,color='black',label='Model: total')\n",
      "ax3.plot(ll,p_a_bestfit,lw=lw_components,color='black',linestyle='-.',label='Model: absorptive component')\n",
      "ax3.plot(ll,p_e_bestfit,lw=lw_components,color='black',linestyle=':',label='Model: emissive component')\n",
      "\n",
      "\n",
      "ax3.set_xlabel('Wavelength ($\\mu$m)')\n",
      "ax3.set_ylabel('Degree of polarization (%)')\n",
      "ax3.set_ylim([0,8])\n",
      "ax3.set_xlim([7,14])\n",
      "\n",
      "#pa\n",
      "ax4.errorbar(l_obs,pa_obs,yerr=pa_err_obs,fmt='o',label='W51',color='blue')\n",
      "ax4.plot(ll,pa_bestfit,lw=lw_components,color='black',label='Total Model')\n",
      "ax4.plot(ll,pa_a_bestfit,lw=lw_components,color='black',linestyle='-.',label='absorptive component')\n",
      "ax4.plot(ll,pa_e_bestfit,lw=lw_components,color='black',linestyle=':',label='emissive component')\n",
      "\n",
      "ax4.set_xlabel('Wavelength ($\\mu$m)')\n",
      "ax4.set_ylabel('P.A. of polarization')\n",
      "ax4.set_ylim([-90,90])\n",
      "ax4.set_xlim([7,14])\n",
      "\n",
      "ax1.legend(loc='lower left')\n",
      "\n",
      "\n",
      "\n",
      "\n",
      "## Save Fig. to PDF and display\n",
      "plt.savefig('W51_model.pdf')\n",
      "os.system('open W51_model.pdf')"
     ],
     "language": "python",
     "metadata": {},
     "outputs": [
      {
       "metadata": {},
       "output_type": "pyout",
       "prompt_number": 13,
       "text": [
        "0"
       ]
      },
      {
       "metadata": {},
       "output_type": "display_data",
       "png": "[encoded data removed]",
       "text": [
        "<matplotlib.figure.Figure at 0x124889d50>"
       ]
      }
     ],
     "prompt_number": 13
    },
    {
     "cell_type": "code",
     "collapsed": false,
     "input": [],
     "language": "python",
     "metadata": {},
     "outputs": [],
     "prompt_number": 13
    },
    {
     "cell_type": "code",
     "collapsed": false,
     "input": [],
     "language": "python",
     "metadata": {},
     "outputs": []
    }
   ],
   "metadata": {}
  }
 ]
}